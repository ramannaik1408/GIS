{
  "nbformat": 4,
  "nbformat_minor": 0,
  "metadata": {
    "colab": {
      "provenance": [],
      "authorship_tag": "ABX9TyPmjN3BuZFBtj2hoFsFJDVW",
      "include_colab_link": true
    },
    "kernelspec": {
      "name": "python3",
      "display_name": "Python 3"
    },
    "language_info": {
      "name": "python"
    }
  },
  "cells": [
    {
      "cell_type": "markdown",
      "metadata": {
        "id": "view-in-github",
        "colab_type": "text"
      },
      "source": [
        "<a href=\"https://colab.research.google.com/github/ramannaik1408/GIS/blob/main/ps1.ipynb\" target=\"_parent\"><img src=\"https://colab.research.google.com/assets/colab-badge.svg\" alt=\"Open In Colab\"/></a>"
      ]
    },
    {
      "cell_type": "markdown",
      "source": [
        "# **Research Interest**"
      ],
      "metadata": {
        "id": "Rpl623aa6atX"
      }
    },
    {
      "cell_type": "markdown",
      "source": [
        "I am intersted on working on data about population density and the income variance in that particulat area.\n",
        "The region I have chosen is one of favourite in the US, that is, California. The reason I have chosen California is because of its size, diversity and complexity. Plus, there is a lot of data to work with for California.\n"
      ],
      "metadata": {
        "id": "83PshQuL6fvV"
      }
    },
    {
      "cell_type": "markdown",
      "source": [
        "### Resources"
      ],
      "metadata": {
        "id": "eB3qzEmf6kd7"
      }
    },
    {
      "cell_type": "markdown",
      "source": [
        "I have found a perfect shapefile for California already from the following resource:\n",
        "\n",
        "https://hub.arcgis.com/datasets/a61c138d0a6946da8d1ebb8d1c9db13a_0/explore?location=17.138890%2C75.315503%2C2.87\n",
        "\n",
        "I have also found data for the median income of California according to County:\n",
        "\n",
        "https://data.ca.gov/dataset/income-limits-by-county\n",
        "\n",
        "I have also found data for crime rate by county in California:\n",
        "\n",
        "https://www.ppic.org/wp-content/uploads/crime-rates-by-county-2019.xlsx\n",
        "\n",
        "I am working on data with respect to income and crime in California\n",
        "I am going to compare these factors to find trends and relation between income and crimne in this state\n",
        "\n",
        "\n",
        "I have uploaded the data that I have found in the GitHub repo"
      ],
      "metadata": {
        "id": "Eqdfmc1_6pCJ"
      }
    },
    {
      "cell_type": "code",
      "source": [
        "import os, zipfile\n",
        "import pandas as pd\n",
        "import matplotlib.pyplot as plt\n",
        "\n",
        "import geopandas as gpd\n",
        "\n",
        "\n",
        "from IPython.core.interactiveshell import InteractiveShell\n",
        "InteractiveShell.ast_node_interactivity = \"all\"\n",
        "\n",
        "from google.colab import data_table\n",
        "data_table.enable_dataframe_formatter()"
      ],
      "metadata": {
        "id": "24atFUdc60T1"
      },
      "execution_count": 51,
      "outputs": []
    },
    {
      "cell_type": "code",
      "source": [
        "!pip install mapclassify\n",
        "import mapclassify"
      ],
      "metadata": {
        "colab": {
          "base_uri": "https://localhost:8080/"
        },
        "id": "l1htj0V-6plO",
        "outputId": "4b374247-f19a-448a-b516-67ddc213724e"
      },
      "execution_count": 52,
      "outputs": [
        {
          "output_type": "stream",
          "name": "stdout",
          "text": [
            "Requirement already satisfied: mapclassify in /usr/local/lib/python3.10/dist-packages (2.6.0)\n",
            "Requirement already satisfied: scipy>=1.0 in /usr/local/lib/python3.10/dist-packages (from mapclassify) (1.11.2)\n",
            "Requirement already satisfied: numpy>=1.3 in /usr/local/lib/python3.10/dist-packages (from mapclassify) (1.23.5)\n",
            "Requirement already satisfied: scikit-learn in /usr/local/lib/python3.10/dist-packages (from mapclassify) (1.2.2)\n",
            "Requirement already satisfied: pandas>=1.0 in /usr/local/lib/python3.10/dist-packages (from mapclassify) (1.5.3)\n",
            "Requirement already satisfied: networkx in /usr/local/lib/python3.10/dist-packages (from mapclassify) (3.1)\n",
            "Requirement already satisfied: python-dateutil>=2.8.1 in /usr/local/lib/python3.10/dist-packages (from pandas>=1.0->mapclassify) (2.8.2)\n",
            "Requirement already satisfied: pytz>=2020.1 in /usr/local/lib/python3.10/dist-packages (from pandas>=1.0->mapclassify) (2023.3.post1)\n",
            "Requirement already satisfied: joblib>=1.1.1 in /usr/local/lib/python3.10/dist-packages (from scikit-learn->mapclassify) (1.3.2)\n",
            "Requirement already satisfied: threadpoolctl>=2.0.0 in /usr/local/lib/python3.10/dist-packages (from scikit-learn->mapclassify) (3.2.0)\n",
            "Requirement already satisfied: six>=1.5 in /usr/local/lib/python3.10/dist-packages (from python-dateutil>=2.8.1->pandas>=1.0->mapclassify) (1.16.0)\n"
          ]
        }
      ]
    },
    {
      "cell_type": "code",
      "source": [
        "! wget -q -O cali-counties.zip https://github.com/ramannaik1408/GIS/raw/main/California_County_Boundaries.zip\n",
        "zip_ref = zipfile.ZipFile('cali-counties.zip', 'r'); zip_ref.extractall(); zip_ref.close()\n",
        "cali=gpd.read_file('cnty19_1.shp') #load the shapefile of california"
      ],
      "metadata": {
        "id": "xsY5p_9A6sjP"
      },
      "execution_count": 53,
      "outputs": []
    },
    {
      "cell_type": "code",
      "source": [
        "cali.dtypes"
      ],
      "metadata": {
        "colab": {
          "base_uri": "https://localhost:8080/"
        },
        "id": "kbJq41pz64L8",
        "outputId": "45ca7a12-c8e7-4551-cc9e-1967e073d1ba"
      },
      "execution_count": 54,
      "outputs": [
        {
          "output_type": "execute_result",
          "data": {
            "text/plain": [
              "OBJECTID         int64\n",
              "COUNTY_NAM      object\n",
              "COUNTY_ABB      object\n",
              "COUNTY_NUM       int64\n",
              "COUNTY_COD      object\n",
              "COUNTY_FIP      object\n",
              "ISLAND          object\n",
              "GlobalID        object\n",
              "SHAPE_Leng     float64\n",
              "SHAPE_Area     float64\n",
              "geometry      geometry\n",
              "dtype: object"
            ]
          },
          "metadata": {},
          "execution_count": 54
        }
      ]
    },
    {
      "cell_type": "code",
      "source": [
        "cali_final= cali[['OBJECTID','COUNTY_NAM','SHAPE_Leng','SHAPE_Area','geometry']]\n"
      ],
      "metadata": {
        "id": "JCCoHg_h7C5J"
      },
      "execution_count": 55,
      "outputs": []
    },
    {
      "cell_type": "code",
      "source": [
        "cali_final.plot()"
      ],
      "metadata": {
        "colab": {
          "base_uri": "https://localhost:8080/",
          "height": 481
        },
        "id": "-vnxfOrK7G1P",
        "outputId": "4ba8e096-c09c-4e0f-b309-5ba548013722"
      },
      "execution_count": 56,
      "outputs": [
        {
          "output_type": "execute_result",
          "data": {
            "text/plain": [
              "<Axes: >"
            ]
          },
          "metadata": {},
          "execution_count": 56
        },
        {
          "output_type": "display_data",
          "data": {
            "text/plain": [
              "<Figure size 640x480 with 1 Axes>"
            ],
            "image/png": "[encoded data removed]"
          },
          "metadata": {}
        }
      ]
    },
    {
      "cell_type": "code",
      "source": [],
      "metadata": {
        "id": "gGaDGKEC7LPV"
      },
      "execution_count": 56,
      "outputs": []
    },
    {
      "cell_type": "markdown",
      "source": [
        "##Dataset Resources\n",
        "\n",
        "I have found this dataset containing income of California residents by county from the following source:\n",
        "\n",
        "https://data.ca.gov/dataset/income-limits-by-county\n",
        "\n",
        "The AMI column contains the Annual Median Income in 2019 which I have made use of for plotting the map"
      ],
      "metadata": {
        "id": "d0k0ZFpx84mr"
      }
    },
    {
      "cell_type": "code",
      "source": [
        "income_cali = pd.read_csv('https://github.com/ramannaik1408/GIS/raw/main/2022-income-limits.csv')\n",
        "income_cali"
      ],
      "metadata": {
        "id": "wqtt9dsy7PT8"
      },
      "execution_count": null,
      "outputs": []
    },
    {
      "cell_type": "code",
      "source": [
        "income_cali.rename(columns={'County': 'COUNTY_NAM','AMI': 'Annual Median Income'}, inplace=True)\n",
        "##income_cali.rename(columns={'AMI': 'Annual Monthly Income'}, inplace=True)\n",
        "income_cali=income_cali[['COUNTY_NAM','Annual Median Income']]\n",
        "print(income_cali.columns)"
      ],
      "metadata": {
        "id": "-trAsEFQ7TgX"
      },
      "execution_count": null,
      "outputs": []
    },
    {
      "cell_type": "markdown",
      "source": [
        "##Plotting map containing income of California:"
      ],
      "metadata": {
        "id": "IgmhsC9q8YzD"
      }
    },
    {
      "cell_type": "code",
      "source": [
        "map1 = pd.merge(cali_final, income_cali, on='COUNTY_NAM',how='outer',indicator=False)\n",
        "fig, ax = plt.subplots(1, figsize=(5,10))\n",
        "map1.plot(ax=ax,column='Annual Median Income',legend=True,cmap='RdYlGn_r',\n",
        "          scheme='natural_breaks',k=7, edgecolor='grey',linewidth=1,\n",
        "          legend_kwds= {\"fmt\": \"{:,.0f}\",'loc':'upper right','markerscale':1.4})\n",
        "leg1 = ax.get_legend()\n",
        "ax.title.set_text(\"California Income By County\")\n",
        "ax.set_xticks([]) #kills xticks\n",
        "ax.set_yticks([]) #kills xticks\n",
        "ax.set_xlabel('''source/definition: zillow.com/research/data''')"
      ],
      "metadata": {
        "id": "3apz1P0z7XQn"
      },
      "execution_count": null,
      "outputs": []
    },
    {
      "cell_type": "markdown",
      "source": [
        ":"
      ],
      "metadata": {
        "id": "sqZhmOVz9QWC"
      }
    },
    {
      "cell_type": "markdown",
      "source": [
        "##Dataset Resource\n",
        "\n",
        "I have found this dataset containing crime data in California\n",
        "\n",
        "https://www.ppic.org/wp-content/uploads/crime-rates-by-county-2019.xlsx"
      ],
      "metadata": {
        "id": "IjSn7ZAt9y0X"
      }
    },
    {
      "cell_type": "code",
      "source": [
        "cali_crime=pd.read_excel('https://github.com/ramannaik1408/GIS/raw/main/crime-rates-by-county-2019.xlsx')\n",
        "cali_crime"
      ],
      "metadata": {
        "id": "h9QTHVnS7bxl"
      },
      "execution_count": null,
      "outputs": []
    },
    {
      "cell_type": "markdown",
      "source": [
        "##Rounding off to 2 decimal places to make it look neater"
      ],
      "metadata": {
        "id": "TOR1ZSmS7jVY"
      }
    },
    {
      "cell_type": "code",
      "source": [
        "cali_crime.rename(columns={'County': 'COUNTY_NAM'}, inplace=True)\n",
        "cali_crime=cali_crime.round(2)"
      ],
      "metadata": {
        "id": "mnN3apSD7eJg"
      },
      "execution_count": null,
      "outputs": []
    },
    {
      "cell_type": "markdown",
      "source": [
        "##Plotting the map\n",
        "\n",
        "So basically the above dataset contains crime data for Violent which is the sum of crimes of Murder, Rape, Robbery, Aggravated Assault per 100000 people. So I did not have to download the number by population since data was already processed\n",
        "\n",
        "Hence, I have used the column Violent for plotting the map for Violent crimes."
      ],
      "metadata": {
        "id": "10pCHY_N-HfS"
      }
    },
    {
      "cell_type": "code",
      "source": [
        "map2 = pd.merge(cali_final,cali_crime, on='COUNTY_NAM',how='outer',indicator=False)\n",
        "fig, ax = plt.subplots(1, figsize=(5,10))\n",
        "map2.plot(ax=ax,column='Violent',legend=True,cmap='YlGnBu_r',\n",
        "          scheme='natural_breaks',k=8, edgecolor='grey',linewidth=1,\n",
        "          legend_kwds= {\"fmt\": \"{:,.0f}\",'loc':'upper right','markerscale':1.4})\n",
        "leg1 = ax.get_legend()\n",
        "ax.title.set_text(\"Violent Crimes in California by county\")\n",
        "ax.set_xticks([]) #kills xticks\n",
        "ax.set_yticks([]) #kills xticks"
      ],
      "metadata": {
        "id": "90L9ig8p7h2-"
      },
      "execution_count": null,
      "outputs": []
    },
    {
      "cell_type": "markdown",
      "source": [
        "##Plotting the map\n",
        "\n",
        "The above dataset also contains crime data for Property which is the sum of crimes of Burglary, Vehicle Theft and Larceny Theft per 100000 people. So I did not have to divide the number by population since data was already processed\n",
        "\n",
        "Hence, I have used the column Property for plotting the map for Property crimes."
      ],
      "metadata": {
        "id": "RyqpB3Tn_F1S"
      }
    },
    {
      "cell_type": "code",
      "source": [
        "map3 = pd.merge(cali_final,cali_crime, on='COUNTY_NAM',how='outer',indicator=False)\n",
        "fig, (ax) = plt.subplots(1,figsize=(5,10))\n",
        "map3.plot(ax=ax,column='Property',cmap='viridis_r', scheme='natural_breaks',k=8, edgecolor='grey',linewidth=1,legend=True)\n",
        "leg1 = ax.get_legend()\n",
        "ax.set_axis_off()\n",
        "ax.title.set_text(\"Property Crimes in California by county\")\n",
        "#ax.set_xticks([]) #kills xticks\n",
        "#ax.set_yticks([]) #kills xticks\n",
        "#ax.set_xlabel('''source/definition: zillow.com/research/data''')"
      ],
      "metadata": {
        "id": "AarvmYZ97tvu"
      },
      "execution_count": null,
      "outputs": []
    },
    {
      "cell_type": "markdown",
      "source": [
        "##Side by side comparision of both the maps against Income"
      ],
      "metadata": {
        "id": "tzCCSbDO_e5e"
      }
    },
    {
      "cell_type": "markdown",
      "source": [
        "##Starting off with Property Crimes"
      ],
      "metadata": {
        "id": "2GYMsVOT_l3k"
      }
    },
    {
      "cell_type": "code",
      "source": [
        "fig, (ax, ax2) = plt.subplots(1, 2, figsize=(18, 8), gridspec_kw={'wspace': 0.5})\n",
        "map1 = pd.merge(cali_final, income_cali, on='COUNTY_NAM',how='outer',indicator=False)\n",
        "#fig, ax = plt.subplots(1, figsize=(5,10))\n",
        "map1.plot(ax=ax,column='Annual Median Income',legend=True,cmap='RdYlGn_r',\n",
        "          scheme='natural_breaks',k=7, edgecolor='grey',linewidth=1,\n",
        "          legend_kwds= {\"fmt\": \"{:,.0f}\",'loc':'upper right','markerscale':1.4})\n",
        "leg1 = ax.get_legend()\n",
        "ax.title.set_text(\"California Income By County\")\n",
        "ax.set_xticks([]) #kills xticks\n",
        "ax.set_yticks([]) #kills xticks\n",
        "ax.set_xlabel('''source/definition: zillow.com/research/data''')\n",
        "\n",
        "map3 = pd.merge(cali_final,cali_crime, on='COUNTY_NAM',how='outer',indicator=False)\n",
        "#fig, ax2 = plt.subplots(1,figsize=(5,10))\n",
        "map3.plot(ax=ax2,column='Property',cmap='RdYlGn_r', scheme='natural_breaks',k=8, edgecolor='grey',linewidth=1,legend=True)\n",
        "leg1 = ax2.get_legend()\n",
        "#ax2.set_axis_off()\n",
        "ax2.title.set_text(\"Property Crimes in California by county\")\n",
        "#ax.set_xticks([]) #kills xticks\n",
        "#ax.set_yticks([]) #kills xticks\n"
      ],
      "metadata": {
        "id": "tMZzaegV7why"
      },
      "execution_count": null,
      "outputs": []
    },
    {
      "cell_type": "markdown",
      "source": [
        "From the above map we can conclude that property crimes are reasonably high in areas like San Francisco Bay area, Los Angeles and San Diego.\n",
        "\n",
        "The reason for this can be inferred from the income map because the income is quite high in those counties, hence we can find richer people, hence more Property crime because of more money and high tech property.\n",
        "\n",
        "\n",
        "There is an exception case in this map, that is, the north western side(Del Norte and Humboldt Region) of the sate, where income is low, but property crime is high. One of the reason could be that, they are tourist hotspots because they are filled with National Parks, hence a lot of visitors, so that might be affecting the crime rate there."
      ],
      "metadata": {
        "id": "Z6Cf0CSX_6YK"
      }
    },
    {
      "cell_type": "markdown",
      "source": [
        "##Violent Crimes"
      ],
      "metadata": {
        "id": "P9T3Ec1F_rz4"
      }
    },
    {
      "cell_type": "code",
      "source": [
        "fig, (ax, ax2) = plt.subplots(1, 2, figsize=(18, 8), gridspec_kw={'wspace': 0.5})\n",
        "map1 = pd.merge(cali, income_cali, on='COUNTY_NAM',how='outer',indicator=False)\n",
        "#fig, ax = plt.subplots(1, figsize=(5,10))\n",
        "map1.plot(ax=ax,column='Annual Median Income',legend=True,cmap='RdYlGn_r',\n",
        "          scheme='natural_breaks',k=7, edgecolor='grey',linewidth=1,\n",
        "          legend_kwds= {\"fmt\": \"{:,.0f}\",'loc':'upper right','markerscale':1.4})\n",
        "leg1 = ax.get_legend()\n",
        "ax.title.set_text(\"California Income By County\")\n",
        "ax.set_xticks([]) #kills xticks\n",
        "ax.set_yticks([]) #kills xticks\n",
        "ax.set_xlabel('''source/definition: zillow.com/research/data''')\n",
        "\n",
        "map2 = pd.merge(cali,cali_crime, on='COUNTY_NAM',how='outer',indicator=False)\n",
        "#fig, ax = plt.subplots(1, figsize=(5,10))\n",
        "map2.plot(ax=ax2,column='Violent',legend=True,cmap='RdYlGn_r',\n",
        "          scheme='natural_breaks',k=8, edgecolor='grey',linewidth=1,\n",
        "          legend_kwds= {\"fmt\": \"{:,.0f}\",'loc':'upper right','markerscale':1.4})\n",
        "leg1 = ax.get_legend()\n",
        "ax2.title.set_text(\"Violent Crimes in California by county\")\n",
        "ax2.set_xticks([]) #kills xticks\n",
        "ax2.set_yticks([]) #kills xticks\n",
        "ax2.set_xlabel('''source/definition: zillow.com/research/data''')"
      ],
      "metadata": {
        "id": "8useAK2R70hK"
      },
      "execution_count": null,
      "outputs": []
    },
    {
      "cell_type": "markdown",
      "source": [
        "From the violent crime we can conclude that the richer areas like Los Angeles, San Francisco, San Diego have relatively lesser crime per 100000 people. This is reasonable because we can see that these counties have high population, hence, predators are in fear of commiting these crimes.\n",
        "\n",
        "Towards the northeast side of California that is less populated has higher crime rate. One of the reasons could be less population. Since it is not a very happening place and income is lesser, it is more suseptible to crime."
      ],
      "metadata": {
        "id": "L7W-q21j_4wT"
      }
    }
  ]
}